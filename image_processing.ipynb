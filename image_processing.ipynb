{
 "cells": [
  {
   "cell_type": "code",
   "execution_count": 1,
   "metadata": {},
   "outputs": [],
   "source": [
    "import pandas as pd \n",
    "import numpy as np \n",
    "import geopandas as gpd \n",
    "\n",
    "from PIL import Image\n",
    "import math\n",
    "from os import listdir\n",
    "from os.path import isfile, join\n",
    "import glob\n",
    "import mercantile"
   ]
  },
  {
   "cell_type": "code",
   "execution_count": 92,
   "metadata": {},
   "outputs": [
    {
     "name": "stdout",
     "output_type": "stream",
     "text": [
      "[105249, 105279]\n",
      "[68029, 68056]\n",
      "7\n",
      "6\n"
     ]
    }
   ],
   "source": [
    "tl = [109.07542,-6.83290]\n",
    "br = [109.15935,-6.90728]\n",
    "z = 17\n",
    "\n",
    "tl_tiles = mercantile.tile(tl[0],tl[1],z)\n",
    "br_tiles = mercantile.tile(br[0],br[1],z)\n",
    "\n",
    "x_tile_range =[tl_tiles.x,br_tiles.x];print(x_tile_range)\n",
    "y_tile_range = [tl_tiles.y,br_tiles.y];print(y_tile_range)\n",
    "\n",
    "edge_length_x = int((x_tile_range[1] - x_tile_range[0])/4);print(edge_length_x)\n",
    "#edge_length_x = int(304/4)\n",
    "edge_length_y = int((y_tile_range[1] - y_tile_range[0])/4);print(edge_length_y)\n",
    "#edge_length_y = int(340/4)"
   ]
  },
  {
   "cell_type": "code",
   "execution_count": 159,
   "metadata": {},
   "outputs": [
    {
     "name": "stdout",
     "output_type": "stream",
     "text": [
      "[105249, 105279]\n",
      "[68029, 68056]\n",
      "15360 13824\n"
     ]
    }
   ],
   "source": [
    "from PIL import Image\n",
    "import math\n",
    "from os import listdir\n",
    "from os.path import isfile, join\n",
    "import glob\n",
    "import mercantile\n",
    "\n",
    "tl = [109.07542,-6.83290]\n",
    "br = [109.15935,-6.90728]\n",
    "z = 17\n",
    "\n",
    "tl_tiles = mercantile.tile(tl[0],tl[1],z)\n",
    "br_tiles = mercantile.tile(br[0],br[1],z)\n",
    "\n",
    "x_tile_range =[tl_tiles.x,br_tiles.x];print(x_tile_range)\n",
    "y_tile_range = [tl_tiles.y,br_tiles.y];print(y_tile_range)\n",
    "\n",
    "edge_length_x = int((x_tile_range[1] - x_tile_range[0])/1)\n",
    "#edge_length_x = int(304/4)\n",
    "edge_length_y = int((y_tile_range[1] - y_tile_range[0])/1)\n",
    "#edge_length_y = int(340/4)\n",
    "edge_length_x = max(1,edge_length_x)\n",
    "edge_length_y = max(1,edge_length_y)\n",
    "#width, height = images[0].size\n",
    "width, height = 512, 512\n",
    "total_width = int(width*edge_length_x)\n",
    "total_height = int(height*edge_length_y)\n",
    "\n",
    "composite = Image.new('RGB', (total_width, total_height))\n",
    "print(total_width,total_height)\n",
    "\n",
    "for m in range(0,1):\n",
    "    for n in range(0,1):\n",
    "        y_offset = 0\n",
    "        for i in range(edge_length_x * m, edge_length_x * (m+1)):\n",
    "            x_offset = 0\n",
    "            for j in range(edge_length_y * n, edge_length_y * (n+1)):\n",
    "                tmp_img = Image.open('./tegal/satellite_images/' + str(i) + '.' + str(j) + '.png')\n",
    "                composite.paste(tmp_img, (y_offset,x_offset))\n",
    "                x_offset += width\n",
    "                #print(\"X offset: {}\".format(x_offset))    \n",
    "            y_offset += height\n",
    "            #print(\"Y offset: {}\".format(y_offset))\n",
    "        composite.save('./tegal/composite_images/' + str(m) + '.' + str(n) + '.jpg')"
   ]
  },
  {
   "cell_type": "code",
   "execution_count": 155,
   "metadata": {},
   "outputs": [
    {
     "name": "stdout",
     "output_type": "stream",
     "text": [
      "[105249, 105279]\n",
      "[68029, 68056]\n",
      "15.0\n",
      "13.0\n"
     ]
    },
    {
     "data": {
      "text/plain": [
       "109.07501220703125"
      ]
     },
     "execution_count": 155,
     "metadata": {},
     "output_type": "execute_result"
    }
   ],
   "source": [
    "tl = [109.07542,-6.83290]\n",
    "br = [109.15935,-6.90728]\n",
    "\n",
    "z = 17\n",
    "\n",
    "tl_tiles = mercantile.tile(tl[0],tl[1],z)\n",
    "br_tiles = mercantile.tile(br[0],br[1],z)\n",
    "x_tile_range =[tl_tiles.x,br_tiles.x];print(x_tile_range)\n",
    "y_tile_range = [tl_tiles.y,br_tiles.y];print(y_tile_range)\n",
    "\n",
    "range_x = ((x_tile_range[1] - x_tile_range[0]) / 2);print(range_x)\n",
    "range_y = ((y_tile_range[1]  - y_tile_range[0] - 1)/ 2);print(range_y)\n",
    "\n",
    "x_min = tl_tiles.x + (range_x * 0)\n",
    "X_min, Y_min = mercantile.ul(x_min, y_min, z)\n",
    "X_min"
   ]
  },
  {
   "cell_type": "code",
   "execution_count": 133,
   "metadata": {},
   "outputs": [
    {
     "data": {
      "text/plain": [
       "68029"
      ]
     },
     "execution_count": 133,
     "metadata": {},
     "output_type": "execute_result"
    }
   ],
   "source": [
    "y_tile_range[0]"
   ]
  },
  {
   "cell_type": "code",
   "execution_count": 160,
   "metadata": {},
   "outputs": [
    {
     "name": "stdout",
     "output_type": "stream",
     "text": [
      "[105249, 105279]\n",
      "[68029, 68056]\n",
      "109.07501220703125 -6.904614047238081\n",
      "109.15740966796875 -6.830988441533998\n"
     ]
    }
   ],
   "source": [
    "tl = [109.07542,-6.83290]\n",
    "br = [109.15935,-6.90728]\n",
    "z = 17\n",
    "\n",
    "from osgeo import gdal\n",
    "import mercantile\n",
    "tl_tiles = mercantile.tile(tl[0],tl[1],z)\n",
    "br_tiles = mercantile.tile(br[0],br[1],z)\n",
    "x_tile_range = [tl_tiles.x,br_tiles.x];print(x_tile_range)\n",
    "y_tile_range = [tl_tiles.y,br_tiles.y];print(y_tile_range)\n",
    "\n",
    "range_x = ((x_tile_range[1] - x_tile_range[0])/ 1)\n",
    "range_y = ((y_tile_range[1] - y_tile_range[0])/ 1)\n",
    "\n",
    "for i in range(0,1):\n",
    "    for j in range(0,1):\n",
    "        x_min = tl_tiles.x + range_x * i\n",
    "        x_max = (tl_tiles.x + range_x * (i +1))\n",
    "\n",
    "        y_max = tl_tiles.y + range_y * j\n",
    "        y_min = (tl_tiles.y + range_y * (j+1))\n",
    "\n",
    "        X_min, Y_min = mercantile.ul(x_min, y_min, z);print(X_min, Y_min)\n",
    "        X_max, Y_max = mercantile.ul(x_max, y_max, z);print(X_max, Y_max)\n",
    "    \n",
    "        kwargs = {\n",
    "        'format': 'GTiff',\n",
    "        'outputType': gdal.GDT_Int16\n",
    "        }\n",
    "\n",
    "        from osgeo import gdal\n",
    "        import subprocess\n",
    "        import os\n",
    "        sr_filepath = './tegal/composite_images/' + str(i) + '.' + str(j) + '.jpg'\n",
    "        ds_filepath = './tegal/tiff_images/' + str(i) + '.' + str(j) + '.tiff'\n",
    "        #in_ds = gdal.Open(ds_filepath)\n",
    "        #print(in_ds)\n",
    "        \n",
    "        basecmd = \"gdal_translate -of GTiff -a_ullr\" + \" \" + str(X_min )+ \" \" + str(Y_max) + \" \" + str(X_max) + \" \" + str(Y_min) + \" \" + \"-a_srs EPSG:4326\" + \" \" + sr_filepath + \" \" + ds_filepath\n",
    "        os.system(basecmd)\n",
    "        #ds = gdal.Translate(sr_filepath, in_ds, projWin = [X_min, Y_min, X_max, Y_max], **kwargs)"
   ]
  },
  {
   "cell_type": "code",
   "execution_count": null,
   "metadata": {},
   "outputs": [],
   "source": []
  }
 ],
 "metadata": {
  "kernelspec": {
   "display_name": "Python 3.8.3 64-bit ('OSMNX': conda)",
   "language": "python",
   "name": "python38364bitosmnxconda97df456d06eb4246b25cde418eae1962"
  },
  "language_info": {
   "codemirror_mode": {
    "name": "ipython",
    "version": 3
   },
   "file_extension": ".py",
   "mimetype": "text/x-python",
   "name": "python",
   "nbconvert_exporter": "python",
   "pygments_lexer": "ipython3",
   "version": "3.9.1"
  }
 },
 "nbformat": 4,
 "nbformat_minor": 4
}